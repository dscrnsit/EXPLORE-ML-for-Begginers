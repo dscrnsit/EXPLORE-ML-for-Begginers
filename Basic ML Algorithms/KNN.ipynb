{
 "cells": [
  {
   "cell_type": "markdown",
   "id": "compact-procurement",
   "metadata": {},
   "source": [
    "## KNN (k- nearest neighbours)"
   ]
  },
  {
   "cell_type": "code",
   "execution_count": 1,
   "id": "theoretical-columbia",
   "metadata": {},
   "outputs": [],
   "source": [
    "import numpy as np\n",
    "import matplotlib.pyplot as plt\n",
    "%matplotlib inline"
   ]
  },
  {
   "cell_type": "markdown",
   "id": "juvenile-sheep",
   "metadata": {},
   "source": [
    "There are two types of distances pythagorean L2 distance and L1- Manhattan distance. L2 is normal distance formula : $$\\sqrt {\\left( {x_1 - x_2 } \\right)^2 + \\left( {y_1 - y_2 } \\right)^2 }$$ and L1 is just : $$(\\lvert{x_2 - x_1}\\rvert + \\lvert{y_2 - y_1}\\rvert)$$"
   ]
  },
  {
   "cell_type": "code",
   "execution_count": 5,
   "id": "mineral-import",
   "metadata": {},
   "outputs": [
    {
     "name": "stdout",
     "output_type": "stream",
     "text": [
      "7.14142842854285 9\n"
     ]
    }
   ],
   "source": [
    "a = np.asarray([2,3,1])\n",
    "b = np.asarray([1,4,8])\n",
    "\n",
    "l2 = np.sum((b-a)**2)**0.5 #pythagorean\n",
    "l1 = np.sum(abs(b-a)) #manhattan\n",
    "print(l2,l1)"
   ]
  },
  {
   "cell_type": "code",
   "execution_count": 20,
   "id": "meaningful-disorder",
   "metadata": {},
   "outputs": [
    {
     "name": "stdout",
     "output_type": "stream",
     "text": [
      "(500, 2)\n",
      "(500, 2)\n"
     ]
    },
    {
     "name": "stderr",
     "output_type": "stream",
     "text": [
      "<ipython-input-20-04ebb8984ac0>:3: RuntimeWarning: covariance is not positive-semidefinite.\n",
      "  dist1 = np.random.multivariate_normal(mean1, cov1, 500)\n",
      "<ipython-input-20-04ebb8984ac0>:8: RuntimeWarning: covariance is not positive-semidefinite.\n",
      "  dist2 = np.random.multivariate_normal(mean2, cov2, 500)\n"
     ]
    }
   ],
   "source": [
    "mean1 = np.array([1, 0])\n",
    "cov1 = np.array([[1, 1.0], [0.1, 1.2]])\n",
    "dist1 = np.random.multivariate_normal(mean1, cov1, 500)\n",
    "print(dist1.shape)\n",
    "\n",
    "mean2 = np.array([4,5])\n",
    "cov2 = np.array([[1, 1.0], [0.1, 1.2]])\n",
    "dist2 = np.random.multivariate_normal(mean2, cov2, 500)\n",
    "print(dist1.shape)\n"
   ]
  },
  {
   "cell_type": "code",
   "execution_count": 22,
   "id": "consolidated-statement",
   "metadata": {},
   "outputs": [
    {
     "data": {
      "image/png": "[encoded data removed]",
      "text/plain": [
       "<Figure size 432x288 with 1 Axes>"
      ]
     },
     "metadata": {
      "needs_background": "light"
     },
     "output_type": "display_data"
    }
   ],
   "source": [
    "plt.xlim(-5,10)\n",
    "plt.ylim(-5,10)\n",
    "plt.scatter(dist1[:, 0], dist1[: ,1])\n",
    "plt.scatter(dist2[:, 0], dist2[: ,1])\n",
    "plt.show()"
   ]
  },
  {
   "cell_type": "code",
   "execution_count": 23,
   "id": "unsigned-manor",
   "metadata": {},
   "outputs": [],
   "source": [
    "data = np.zeros((1000, 3))\n",
    "data[:500, :2] = dist1\n",
    "data[500:, :2] = dist2\n",
    "data[500:, 2] = 1"
   ]
  },
  {
   "cell_type": "code",
   "execution_count": 25,
   "id": "eastern-orlando",
   "metadata": {},
   "outputs": [
    {
     "data": {
      "text/plain": [
       "(1000, 3)"
      ]
     },
     "execution_count": 25,
     "metadata": {},
     "output_type": "execute_result"
    }
   ],
   "source": [
    "data.shape"
   ]
  },
  {
   "cell_type": "code",
   "execution_count": 26,
   "id": "bibliographic-taste",
   "metadata": {},
   "outputs": [
    {
     "data": {
      "text/plain": [
       "array([2.52821376, 2.55278819, 0.5       ])"
      ]
     },
     "execution_count": 26,
     "metadata": {},
     "output_type": "execute_result"
    }
   ],
   "source": [
    "data.mean(axis=0)"
   ]
  },
  {
   "cell_type": "code",
   "execution_count": 27,
   "id": "super-jerusalem",
   "metadata": {},
   "outputs": [],
   "source": [
    "def distance(a, b):\n",
    "    return np.sum((a-b)**2)**0.5"
   ]
  },
  {
   "cell_type": "code",
   "execution_count": 30,
   "id": "considered-tuition",
   "metadata": {},
   "outputs": [
    {
     "data": {
      "text/plain": [
       "array([[-0.19870504, -0.19428268,  0.        ],\n",
       "       [ 4.02224523,  5.38729357,  1.        ],\n",
       "       [-0.55101574, -1.46330243,  0.        ],\n",
       "       [ 4.42769165,  6.0459491 ,  1.        ],\n",
       "       [-0.35677609,  0.0208975 ,  0.        ],\n",
       "       [ 0.51224434,  0.40989699,  0.        ],\n",
       "       [ 4.8548411 ,  6.14585577,  1.        ],\n",
       "       [ 3.15138318,  4.82421808,  1.        ],\n",
       "       [-0.24142128, -0.34414449,  0.        ],\n",
       "       [ 0.09629161, -0.81353269,  0.        ]])"
      ]
     },
     "execution_count": 30,
     "metadata": {},
     "output_type": "execute_result"
    }
   ],
   "source": [
    "np.random.shuffle(data)\n",
    "data[:10]"
   ]
  },
  {
   "cell_type": "code",
   "execution_count": 31,
   "id": "basic-flash",
   "metadata": {},
   "outputs": [
    {
     "name": "stdout",
     "output_type": "stream",
     "text": [
      "(750, 2) (750,)\n",
      "(250, 2) (250,)\n"
     ]
    }
   ],
   "source": [
    "x_train = data[:750, :2]\n",
    "y_train = data[:750, -1]\n",
    "\n",
    "x_test = data[750:, :2]\n",
    "y_test = data[750:, -1]\n",
    "print(x_train.shape, y_train.shape)\n",
    "print(x_test.shape, y_test.shape)"
   ]
  },
  {
   "cell_type": "code",
   "execution_count": 74,
   "id": "furnished-smell",
   "metadata": {},
   "outputs": [],
   "source": [
    "def knn(x_train, y_train, test_point, k=7):\n",
    "    m = x_train.shape[0]\n",
    "    distances =  [] #np.zeros((m, 2))\n",
    "    for i in range(m):\n",
    "        d = distance(test_point, x_train[i])\n",
    "        distances.append([d, y_train[i]])\n",
    "#     distances[:, 0]  = distance(test_point, x_train)\n",
    "#     distances[:, 1] = y_train\n",
    "#     print(distances)\n",
    "    sorted_labels = sorted(distances, key=lambda r: r[0])\n",
    "    neighbours = np.asarray(sorted_labels)[:k, -1]\n",
    "#     print(neighbours)\n",
    "    freq = np.unique(neighbours, return_counts=True)\n",
    "    index = freq[1].argmax()\n",
    "    return freq[0][index]"
   ]
  },
  {
   "cell_type": "code",
   "execution_count": 70,
   "id": "loved-rachel",
   "metadata": {},
   "outputs": [
    {
     "name": "stdout",
     "output_type": "stream",
     "text": [
      "[1. 1. 0. 0. 1.]\n"
     ]
    },
    {
     "data": {
      "text/plain": [
       "1.0"
      ]
     },
     "execution_count": 70,
     "metadata": {},
     "output_type": "execute_result"
    }
   ],
   "source": [
    "test_point = np.array([2,3])\n",
    "knn(x_train, y_train, test_point, k=5)"
   ]
  },
  {
   "cell_type": "code",
   "execution_count": 78,
   "id": "nonprofit-berry",
   "metadata": {},
   "outputs": [],
   "source": [
    "def accuracy(k):\n",
    "    pred = []\n",
    "    m =x_test.shape[0]\n",
    "    for i in range(m):\n",
    "        test_point = x_test[i]\n",
    "        pred_label = knn(x_train, y_train, test_point, k)\n",
    "        pred.append(pred_label)\n",
    "    \n",
    "    pred = np.asarray(pred)\n",
    "    return 100 * (pred == y_test).sum() / m\n",
    "    "
   ]
  },
  {
   "cell_type": "code",
   "execution_count": 81,
   "id": "collected-edmonton",
   "metadata": {},
   "outputs": [
    {
     "name": "stdout",
     "output_type": "stream",
     "text": [
      "99.2\n",
      "99.2\n",
      "99.2\n",
      "99.2\n",
      "99.2\n",
      "99.2\n",
      "99.2\n",
      "99.2\n",
      "99.2\n"
     ]
    }
   ],
   "source": [
    "for k in range(1, 10):\n",
    "    print(accuracy(7))"
   ]
  },
  {
   "cell_type": "code",
   "execution_count": 83,
   "id": "direct-protein",
   "metadata": {},
   "outputs": [],
   "source": [
    "# ! pip install scikit-learn"
   ]
  },
  {
   "cell_type": "code",
   "execution_count": 87,
   "id": "subjective-dividend",
   "metadata": {},
   "outputs": [
    {
     "data": {
      "text/plain": [
       "99.2"
      ]
     },
     "execution_count": 87,
     "metadata": {},
     "output_type": "execute_result"
    }
   ],
   "source": [
    "from sklearn.neighbors import KNeighborsClassifier\n",
    "knn = KNeighborsClassifier(n_neighbors = 5)\n",
    "knn.fit(x_train ,y_train)\n",
    "# print(knn.predict(x_test))\n",
    "knn.score(x_test, y_test)*100"
   ]
  },
  {
   "cell_type": "markdown",
   "id": "composite-stephen",
   "metadata": {},
   "source": [
    "## Handwritten Number Recognition"
   ]
  },
  {
   "cell_type": "code",
   "execution_count": 88,
   "id": "hispanic-machine",
   "metadata": {},
   "outputs": [],
   "source": [
    "from sklearn.datasets import load_digits"
   ]
  },
  {
   "cell_type": "code",
   "execution_count": 90,
   "id": "quarterly-closing",
   "metadata": {},
   "outputs": [],
   "source": [
    "dataset = load_digits()"
   ]
  },
  {
   "cell_type": "code",
   "execution_count": 91,
   "id": "environmental-spread",
   "metadata": {},
   "outputs": [
    {
     "data": {
      "text/plain": [
       "dict_keys(['data', 'target', 'frame', 'feature_names', 'target_names', 'images', 'DESCR'])"
      ]
     },
     "execution_count": 91,
     "metadata": {},
     "output_type": "execute_result"
    }
   ],
   "source": [
    "dataset.keys()"
   ]
  },
  {
   "cell_type": "code",
   "execution_count": 92,
   "id": "published-argentina",
   "metadata": {},
   "outputs": [
    {
     "data": {
      "text/plain": [
       "(1797, 8, 8)"
      ]
     },
     "execution_count": 92,
     "metadata": {},
     "output_type": "execute_result"
    }
   ],
   "source": [
    "dataset['images'].shape"
   ]
  },
  {
   "cell_type": "code",
   "execution_count": 95,
   "id": "cognitive-water",
   "metadata": {},
   "outputs": [
    {
     "data": {
      "text/plain": [
       "(1797, 64)"
      ]
     },
     "execution_count": 95,
     "metadata": {},
     "output_type": "execute_result"
    }
   ],
   "source": [
    "dataset['data'].shape"
   ]
  },
  {
   "cell_type": "code",
   "execution_count": 98,
   "id": "direct-software",
   "metadata": {},
   "outputs": [
    {
     "data": {
      "text/plain": [
       "array([[ 0.,  0.,  5., 13.,  9.,  1.,  0.,  0.],\n",
       "       [ 0.,  0., 13., 15., 10., 15.,  5.,  0.],\n",
       "       [ 0.,  3., 15.,  2.,  0., 11.,  8.,  0.],\n",
       "       [ 0.,  4., 12.,  0.,  0.,  8.,  8.,  0.],\n",
       "       [ 0.,  5.,  8.,  0.,  0.,  9.,  8.,  0.],\n",
       "       [ 0.,  4., 11.,  0.,  1., 12.,  7.,  0.],\n",
       "       [ 0.,  2., 14.,  5., 10., 12.,  0.,  0.],\n",
       "       [ 0.,  0.,  6., 13., 10.,  0.,  0.,  0.]])"
      ]
     },
     "execution_count": 98,
     "metadata": {},
     "output_type": "execute_result"
    }
   ],
   "source": [
    "dataset['images'][0]"
   ]
  },
  {
   "cell_type": "code",
   "execution_count": 110,
   "id": "coupled-sunrise",
   "metadata": {},
   "outputs": [
    {
     "data": {
      "image/png": "[encoded data removed]",
      "text/plain": [
       "<Figure size 432x288 with 1 Axes>"
      ]
     },
     "metadata": {
      "needs_background": "light"
     },
     "output_type": "display_data"
    },
    {
     "data": {
      "image/png": "[encoded data removed]",
      "text/plain": [
       "<Figure size 432x288 with 1 Axes>"
      ]
     },
     "metadata": {
      "needs_background": "light"
     },
     "output_type": "display_data"
    },
    {
     "data": {
      "image/png": "[encoded data removed]",
      "text/plain": [
       "<Figure size 432x288 with 1 Axes>"
      ]
     },
     "metadata": {
      "needs_background": "light"
     },
     "output_type": "display_data"
    },
    {
     "data": {
      "image/png": "[encoded data removed]",
      "text/plain": [
       "<Figure size 432x288 with 1 Axes>"
      ]
     },
     "metadata": {
      "needs_background": "light"
     },
     "output_type": "display_data"
    },
    {
     "data": {
      "image/png": "[encoded data removed]",
      "text/plain": [
       "<Figure size 432x288 with 1 Axes>"
      ]
     },
     "metadata": {
      "needs_background": "light"
     },
     "output_type": "display_data"
    }
   ],
   "source": [
    "import random\n",
    "r = [random.randint(0, 1797) for i in range(5)]\n",
    "for i in range(len(r)):\n",
    "    plt.imshow(dataset['images'][r[i]], cmap='gray')\n",
    "    plt.show()"
   ]
  },
  {
   "cell_type": "code",
   "execution_count": 111,
   "id": "composite-matter",
   "metadata": {},
   "outputs": [],
   "source": [
    "from sklearn.model_selection import train_test_split\n",
    "X_train, X_test, y_train, y_test = train_test_split(dataset['data'], dataset['target'])"
   ]
  },
  {
   "cell_type": "code",
   "execution_count": 113,
   "id": "logical-houston",
   "metadata": {},
   "outputs": [
    {
     "name": "stdout",
     "output_type": "stream",
     "text": [
      "(1347, 64) (1347,)\n",
      "(450, 64) (450,)\n"
     ]
    }
   ],
   "source": [
    "print(X_train.shape, y_train.shape)\n",
    "print(X_test.shape, y_test.shape)"
   ]
  },
  {
   "cell_type": "code",
   "execution_count": 115,
   "id": "departmental-tackle",
   "metadata": {},
   "outputs": [
    {
     "name": "stdout",
     "output_type": "stream",
     "text": [
      "[2 9 6 7 1 5 2 0 8 6 5 4 3 1 0 1 2 7 2 2 3 9 6 4 7 4 2 4 4 4 1 7 7 1 4 0 5\n",
      " 4 9 1 1 3 4 7 9 7 3 2 6 5 9 6 1 6 9 8 7 1 2 2 1 3 5 7 3 7 9 8 2 0 1 1 8 1\n",
      " 8 8 6 0 5 6 7 5 3 8 2 2 7 8 5 7 7 7 3 6 1 5 4 2 4 8 6 7 5 4 4 6 8 0 6 7 3\n",
      " 0 1 4 1 6 5 6 8 5 9 2 0 6 7 8 8 4 4 5 6 4 7 7 4 8 0 6 6 6 5 3 6 5 0 3 5 5\n",
      " 3 4 6 1 0 0 8 4 1 0 3 8 4 0 8 1 3 0 1 7 8 3 4 8 4 3 3 8 6 5 9 9 9 2 2 4 6\n",
      " 1 9 5 5 2 1 1 4 1 4 5 6 2 4 2 7 7 4 9 6 9 1 1 0 0 9 6 9 3 7 0 2 5 2 4 8 4\n",
      " 3 1 7 3 6 8 6 3 4 7 1 8 7 0 2 6 5 4 0 9 3 8 2 7 1 8 8 5 2 7 1 0 9 6 7 6 7\n",
      " 2 7 4 2 7 1 6 2 1 8 8 5 2 4 3 8 1 9 6 3 6 1 4 9 6 6 3 8 3 0 7 4 9 4 8 7 3\n",
      " 0 1 1 4 2 7 6 1 6 0 2 7 3 0 8 4 8 5 6 0 3 3 1 9 5 7 2 7 5 5 9 2 7 2 3 3 4\n",
      " 9 1 1 3 0 9 0 9 5 8 5 0 8 9 1 7 7 7 6 5 3 6 1 6 8 0 1 3 7 2 0 8 6 3 7 6 8\n",
      " 7 4 5 0 1 5 9 5 3 5 7 7 9 3 1 4 6 2 3 3 9 0 8 3 7 6 8 6 2 2 5 6 2 2 2 5 3\n",
      " 4 4 3 0 2 6 8 5 1 5 0 0 3 1 9 3 4 0 5 2 6 5 4 6 1 5 5 5 4 9 5 3 5 9 0 8 4\n",
      " 9 6 0 0 4 9]\n"
     ]
    },
    {
     "data": {
      "text/plain": [
       "0.9822222222222222"
      ]
     },
     "execution_count": 115,
     "metadata": {},
     "output_type": "execute_result"
    }
   ],
   "source": [
    "knn = KNeighborsClassifier(n_neighbors = 7)\n",
    "knn.fit(X_train, y_train)\n",
    "print(knn.predict(X_test))\n",
    "knn.score(X_test, y_test)"
   ]
  },
  {
   "cell_type": "code",
   "execution_count": 1,
   "id": "electoral-celebrity",
   "metadata": {
    "collapsed": true
   },
   "outputs": [
    {
     "ename": "NameError",
     "evalue": "name 'y_test' is not defined",
     "output_type": "error",
     "traceback": [
      "\u001b[1;31m---------------------------------------------------------------------------\u001b[0m",
      "\u001b[1;31mNameError\u001b[0m                                 Traceback (most recent call last)",
      "\u001b[1;32m<ipython-input-1-599eb8166d5c>\u001b[0m in \u001b[0;36m<module>\u001b[1;34m\u001b[0m\n\u001b[1;32m----> 1\u001b[1;33m \u001b[0my_test\u001b[0m\u001b[1;33m[\u001b[0m\u001b[1;33m-\u001b[0m\u001b[1;36m1\u001b[0m\u001b[1;33m]\u001b[0m\u001b[1;33m\u001b[0m\u001b[1;33m\u001b[0m\u001b[0m\n\u001b[0m",
      "\u001b[1;31mNameError\u001b[0m: name 'y_test' is not defined"
     ]
    }
   ],
   "source": [
    "y_test[-1]"
   ]
  },
  {
   "cell_type": "markdown",
   "id": "scheduled-adolescent",
   "metadata": {},
   "source": [
    "For Hyperparameter tuning we have two methods Linear Search and Binary Search. We run a for loop for a range of k values. Random Search is the most used tuning method."
   ]
  }
 ],
 "metadata": {
  "kernelspec": {
   "display_name": "Python 3",
   "language": "python",
   "name": "python3"
  },
  "language_info": {
   "codemirror_mode": {
    "name": "ipython",
    "version": 3
   },
   "file_extension": ".py",
   "mimetype": "text/x-python",
   "name": "python",
   "nbconvert_exporter": "python",
   "pygments_lexer": "ipython3",
   "version": "3.9.1"
  }
 },
 "nbformat": 4,
 "nbformat_minor": 5
}
